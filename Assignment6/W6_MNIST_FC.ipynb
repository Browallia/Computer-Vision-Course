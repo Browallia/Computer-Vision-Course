{
 "cells": [
  {
   "cell_type": "code",
   "execution_count": 1,
   "metadata": {},
   "outputs": [
    {
     "name": "stdout",
     "output_type": "stream",
     "text": [
      "torch.Size([60000, 28, 28])\n",
      "torch.Size([60000, 1, 28, 28])\n"
     ]
    },
    {
     "name": "stderr",
     "output_type": "stream",
     "text": [
      "/root/anaconda3/lib/python3.8/site-packages/torchvision/datasets/mnist.py:58: UserWarning: train_data has been renamed data\n",
      "  warnings.warn(\"train_data has been renamed data\")\n",
      "/root/anaconda3/lib/python3.8/site-packages/torchvision/datasets/mnist.py:48: UserWarning: train_labels has been renamed targets\n",
      "  warnings.warn(\"train_labels has been renamed targets\")\n",
      "/root/anaconda3/lib/python3.8/site-packages/torchvision/datasets/mnist.py:63: UserWarning: test_data has been renamed data\n",
      "  warnings.warn(\"test_data has been renamed data\")\n",
      "/root/anaconda3/lib/python3.8/site-packages/torchvision/datasets/mnist.py:53: UserWarning: test_labels has been renamed targets\n",
      "  warnings.warn(\"test_labels has been renamed targets\")\n"
     ]
    }
   ],
   "source": [
    "import torch\n",
    "import torch.nn as nn\n",
    "import torch.utils.data as Data\n",
    "import torchvision\n",
    "import torch.nn.functional as F\n",
    "import numpy as np\n",
    "\n",
    "# torch.manual_seed(1)\n",
    "torch.cuda.set_device(0)\n",
    "\n",
    "EPOCH = 10\n",
    "LR = 0.001\n",
    "DOWNLOAD_MNIST = True\n",
    "\n",
    "train_data = torchvision.datasets.MNIST(root='./mnist/', train=True, transform=torchvision.transforms.ToTensor(),\n",
    "                                        download=DOWNLOAD_MNIST, )\n",
    "test_data = torchvision.datasets.MNIST(root='./mnist/', train=False)\n",
    "print(train_data.train_data.shape)\n",
    "\n",
    "train_x = torch.unsqueeze(train_data.train_data, dim=1).type(torch.FloatTensor) / 255.\n",
    "train_y = train_data.train_labels\n",
    "print(train_x.shape)\n",
    "\n",
    "test_x = torch.unsqueeze(test_data.test_data, dim=1).type(torch.FloatTensor)[:2000] / 255.  # Tensor on GPU\n",
    "test_y = test_data.test_labels[:2000]"
   ]
  },
  {
   "cell_type": "code",
   "execution_count": 5,
   "metadata": {},
   "outputs": [],
   "source": [
    "def train_mnist(model, batch_size, epochs, LR, weight_decay=None, lr_schedular=None):\n",
    "    \"\"\"train pipeline\n",
    "    \"\"\"\n",
    "    if weight_decay is not None:\n",
    "        optimizer = torch.optim.Adam(model.parameters(), lr=LR, weight_decay=weight_decay)\n",
    "    else:\n",
    "        optimizer = torch.optim.Adam(model.parameters(), lr=LR)\n",
    "\n",
    "    if lr_schedular is not None:\n",
    "        schedular = torch.optim.lr_scheduler.StepLR(optimizer, epochs//3, 0.1)\n",
    "\n",
    "    data_size = 20000\n",
    "    loss_func = nn.CrossEntropyLoss()\n",
    "    print(f'-----model: {model.get_name()}, batch_size: {batch_size}, epochs: {epochs}, LR: {LR}, weight_decay: {weight_decay}, lr_schedular: {lr_schedular}-----')\n",
    "    for epoch in range(epochs):\n",
    "        random_indx = np.random.permutation(data_size)\n",
    "        for batch_i in range(data_size // batch_size):\n",
    "            indx = random_indx[batch_i * batch_size:(batch_i + 1) * batch_size]\n",
    "\n",
    "            b_x = train_x[indx, :].cuda()\n",
    "            b_y = train_y[indx].cuda()\n",
    "    #         print(b_x.shape)\n",
    "    #         print(b_y.shape)\n",
    "\n",
    "            output = model(b_x)\n",
    "            loss = loss_func(output, b_y)\n",
    "\n",
    "            loss.backward()\n",
    "            optimizer.step()\n",
    "            optimizer.zero_grad()\n",
    "\n",
    "            if batch_i % int((data_size // batch_size)/3) == 0:\n",
    "                test_output = model(test_x.cuda()).cpu()\n",
    "                pred_y = torch.max(test_output, 1)[1].data.squeeze()\n",
    "                # pred_y = torch.max(test_output, 1)[1].data.squeeze()\n",
    "                accuracy = torch.sum(pred_y == test_y).type(torch.FloatTensor) / test_y.size(0)\n",
    "                print('Epoch: ', epoch, '| train loss: %.4f' % loss.data.cpu().numpy(), '| test accuracy: %.3f' % accuracy)\n",
    "        if lr_schedular is not None:\n",
    "            schedular.step()\n",
    "\n",
    "    model.cpu()\n",
    "    test_output = model(test_x[:10])\n",
    "    pred_y = torch.max(test_output, 1)[1].data.squeeze()  # move the computation in GPU\n",
    "\n",
    "    print(pred_y, 'prediction number')\n",
    "    print(test_y[:10], 'real number')\n",
    "    \n"
   ]
  },
  {
   "cell_type": "code",
   "execution_count": 3,
   "metadata": {},
   "outputs": [],
   "source": [
    "class FC(nn.Module):\n",
    "    def __init__(self, dropout=False):\n",
    "        super(FC, self).__init__()\n",
    "        self.fc1 = nn.Linear(784, 256)\n",
    "        self.fc2 = nn.Linear(256, 10)\n",
    "        self.fc3 = nn.Linear(10, 10)\n",
    "        self.dropout = dropout\n",
    "        if self.dropout:\n",
    "            self.drop = nn.Dropout(0.5)\n",
    "\n",
    "    def forward(self, x):\n",
    "        x = x.view(x.size(0), -1)\n",
    "        x = self.fc1(x)\n",
    "        x = F.relu(x)\n",
    "        if self.dropout:\n",
    "            x = self.drop(x)\n",
    "        x = self.fc2(x)\n",
    "        x = F.relu(x)\n",
    "        x = self.fc3(x)\n",
    "\n",
    "\n",
    "        output = x\n",
    "        return output\n",
    "    \n",
    "    def get_name(self):\n",
    "        return self.__class__.__name__\n",
    "\n",
    "class BasicBlcok(nn.Module):\n",
    "    def __init__(self, planes, residual=False):\n",
    "        super(BasicBlcok, self).__init__()\n",
    "        self.residual = residual\n",
    "        self.conv1 = nn.Conv2d(planes, planes, kernel_size=3, padding=1, stride=1, bias=False)\n",
    "        self.bn1 = nn.BatchNorm2d(planes)\n",
    "        self.relu1 = nn.ReLU(inplace=True)\n",
    "        self.conv2 = nn.Conv2d(planes, planes, kernel_size=3, padding=1, stride=2, bias=False)\n",
    "        self.bn2 = nn.BatchNorm2d(planes)\n",
    "        self.relu2 = nn.ReLU(inplace=True)\n",
    "        if self.residual:\n",
    "            self.res = nn.Sequential(\n",
    "                            nn.Conv2d(planes, planes, kernel_size=1, stride=2, padding=0, bias=False),\n",
    "                            nn.BatchNorm2d(planes)\n",
    "                        )\n",
    "\n",
    "    def forward(self, x):\n",
    "        res = x\n",
    "        x = self.conv1(x)\n",
    "        x = self.bn1(x)\n",
    "        x = self.relu1(x)\n",
    "\n",
    "        x = self.conv2(x)\n",
    "        x = self.bn2(x)\n",
    "        if self.residual:\n",
    "            res = self.res(res)\n",
    "            x += res\n",
    "        x = self.relu2(x)\n",
    "\n",
    "\n",
    "        return x\n",
    "class CNN(nn.Module):\n",
    "    def __init__(self, in_planes, planes, residual=False):\n",
    "        super(CNN, self).__init__()\n",
    "        self.conv1 = nn.Conv2d(in_planes, planes, kernel_size=3, padding=1, stride=1, bias=False)\n",
    "        self.bn1 = nn.BatchNorm2d(planes)\n",
    "        self.relu1 = nn.ReLU(inplace=True)\n",
    "        self.layer1 = BasicBlcok(planes, residual)\n",
    "        self.layer2 = BasicBlcok(planes, residual)\n",
    "        self.layer3 = BasicBlcok(planes, residual)\n",
    "        self.pooling = nn.AvgPool2d(4)\n",
    "        self.linear = nn.Linear(16, 10)\n",
    "        \n",
    "    \n",
    "    def forward(self, x):\n",
    "        x = self.conv1(x)\n",
    "        x = self.bn1(x)\n",
    "        x = self.relu1(x)\n",
    "        x = self.layer1(x)\n",
    "        x = self.layer2(x)\n",
    "        x = self.layer3(x)\n",
    "        x = self.pooling(x)\n",
    "        x = x.view(x.size(0), -1)\n",
    "        x = self.linear(x)\n",
    "        return x\n",
    "    \n",
    "    def get_name(self):\n",
    "        return self.__class__.__name__\n",
    "\n"
   ]
  },
  {
   "cell_type": "code",
   "execution_count": 7,
   "metadata": {},
   "outputs": [
    {
     "name": "stdout",
     "output_type": "stream",
     "text": [
      "Epoch:  0 | train loss: 2.3298 | test accuracy: 0.141\n",
      "Epoch:  0 | train loss: 0.8785 | test accuracy: 0.790\n",
      "Epoch:  0 | train loss: 0.2786 | test accuracy: 0.928\n",
      "Epoch:  0 | train loss: 0.1703 | test accuracy: 0.960\n",
      "Epoch:  1 | train loss: 0.1707 | test accuracy: 0.964\n",
      "Epoch:  1 | train loss: 0.1873 | test accuracy: 0.964\n",
      "Epoch:  1 | train loss: 0.1210 | test accuracy: 0.968\n",
      "Epoch:  1 | train loss: 0.1179 | test accuracy: 0.969\n",
      "Epoch:  2 | train loss: 0.0580 | test accuracy: 0.969\n",
      "Epoch:  2 | train loss: 0.1107 | test accuracy: 0.970\n",
      "Epoch:  2 | train loss: 0.0596 | test accuracy: 0.970\n",
      "Epoch:  2 | train loss: 0.0590 | test accuracy: 0.974\n",
      "Epoch:  3 | train loss: 0.0393 | test accuracy: 0.970\n",
      "Epoch:  3 | train loss: 0.0611 | test accuracy: 0.967\n",
      "Epoch:  3 | train loss: 0.0379 | test accuracy: 0.978\n",
      "Epoch:  3 | train loss: 0.0275 | test accuracy: 0.972\n",
      "Epoch:  4 | train loss: 0.0247 | test accuracy: 0.970\n",
      "Epoch:  4 | train loss: 0.0348 | test accuracy: 0.978\n",
      "Epoch:  4 | train loss: 0.0353 | test accuracy: 0.971\n",
      "Epoch:  4 | train loss: 0.0757 | test accuracy: 0.976\n",
      "Epoch:  5 | train loss: 0.0278 | test accuracy: 0.979\n",
      "Epoch:  5 | train loss: 0.0327 | test accuracy: 0.970\n",
      "Epoch:  5 | train loss: 0.0326 | test accuracy: 0.979\n",
      "Epoch:  5 | train loss: 0.0238 | test accuracy: 0.978\n",
      "Epoch:  6 | train loss: 0.0323 | test accuracy: 0.978\n",
      "Epoch:  6 | train loss: 0.0205 | test accuracy: 0.971\n",
      "Epoch:  6 | train loss: 0.0151 | test accuracy: 0.975\n",
      "Epoch:  6 | train loss: 0.0269 | test accuracy: 0.975\n",
      "Epoch:  7 | train loss: 0.0378 | test accuracy: 0.975\n",
      "Epoch:  7 | train loss: 0.0176 | test accuracy: 0.980\n",
      "Epoch:  7 | train loss: 0.0397 | test accuracy: 0.979\n",
      "Epoch:  7 | train loss: 0.0219 | test accuracy: 0.979\n",
      "Epoch:  8 | train loss: 0.0122 | test accuracy: 0.979\n",
      "Epoch:  8 | train loss: 0.0204 | test accuracy: 0.984\n",
      "Epoch:  8 | train loss: 0.0248 | test accuracy: 0.983\n",
      "Epoch:  8 | train loss: 0.0078 | test accuracy: 0.978\n",
      "Epoch:  9 | train loss: 0.0212 | test accuracy: 0.979\n",
      "Epoch:  9 | train loss: 0.0180 | test accuracy: 0.975\n",
      "Epoch:  9 | train loss: 0.0040 | test accuracy: 0.975\n",
      "Epoch:  9 | train loss: 0.0095 | test accuracy: 0.979\n",
      "Epoch:  10 | train loss: 0.0295 | test accuracy: 0.980\n",
      "Epoch:  10 | train loss: 0.0126 | test accuracy: 0.982\n",
      "Epoch:  10 | train loss: 0.0121 | test accuracy: 0.979\n",
      "Epoch:  10 | train loss: 0.0073 | test accuracy: 0.978\n",
      "Epoch:  11 | train loss: 0.0197 | test accuracy: 0.977\n",
      "Epoch:  11 | train loss: 0.0135 | test accuracy: 0.981\n",
      "Epoch:  11 | train loss: 0.0389 | test accuracy: 0.979\n",
      "Epoch:  11 | train loss: 0.0532 | test accuracy: 0.982\n",
      "Epoch:  12 | train loss: 0.0056 | test accuracy: 0.980\n",
      "Epoch:  12 | train loss: 0.0185 | test accuracy: 0.979\n",
      "Epoch:  12 | train loss: 0.0294 | test accuracy: 0.980\n",
      "Epoch:  12 | train loss: 0.0096 | test accuracy: 0.980\n",
      "Epoch:  13 | train loss: 0.0060 | test accuracy: 0.981\n",
      "Epoch:  13 | train loss: 0.0039 | test accuracy: 0.980\n",
      "Epoch:  13 | train loss: 0.0080 | test accuracy: 0.979\n",
      "Epoch:  13 | train loss: 0.0034 | test accuracy: 0.978\n",
      "Epoch:  14 | train loss: 0.0144 | test accuracy: 0.978\n",
      "Epoch:  14 | train loss: 0.0027 | test accuracy: 0.981\n",
      "Epoch:  14 | train loss: 0.0073 | test accuracy: 0.980\n",
      "Epoch:  14 | train loss: 0.0051 | test accuracy: 0.980\n",
      "Epoch:  15 | train loss: 0.0053 | test accuracy: 0.980\n",
      "Epoch:  15 | train loss: 0.0034 | test accuracy: 0.980\n",
      "Epoch:  15 | train loss: 0.0027 | test accuracy: 0.979\n",
      "Epoch:  15 | train loss: 0.0104 | test accuracy: 0.979\n",
      "Epoch:  16 | train loss: 0.0099 | test accuracy: 0.979\n",
      "Epoch:  16 | train loss: 0.0120 | test accuracy: 0.978\n",
      "Epoch:  16 | train loss: 0.0103 | test accuracy: 0.979\n",
      "Epoch:  16 | train loss: 0.0035 | test accuracy: 0.979\n",
      "Epoch:  17 | train loss: 0.0076 | test accuracy: 0.979\n",
      "Epoch:  17 | train loss: 0.0316 | test accuracy: 0.979\n",
      "Epoch:  17 | train loss: 0.0257 | test accuracy: 0.976\n",
      "Epoch:  17 | train loss: 0.0058 | test accuracy: 0.979\n",
      "Epoch:  18 | train loss: 0.0123 | test accuracy: 0.979\n",
      "Epoch:  18 | train loss: 0.0139 | test accuracy: 0.983\n",
      "Epoch:  18 | train loss: 0.0209 | test accuracy: 0.982\n",
      "Epoch:  18 | train loss: 0.0066 | test accuracy: 0.979\n",
      "Epoch:  19 | train loss: 0.0070 | test accuracy: 0.979\n",
      "Epoch:  19 | train loss: 0.0057 | test accuracy: 0.979\n",
      "Epoch:  19 | train loss: 0.0113 | test accuracy: 0.982\n",
      "Epoch:  19 | train loss: 0.0153 | test accuracy: 0.977\n",
      "tensor([7, 2, 1, 0, 4, 1, 4, 9, 5, 9]) prediction number\n",
      "tensor([7, 2, 1, 0, 4, 1, 4, 9, 5, 9]) real number\n"
     ]
    }
   ],
   "source": [
    "# experiment\n",
    "# fc = FC().cuda()\n",
    "# train_mnist(model=fc, batch_size=200, epochs=20, LR=0.01)\n",
    "# fc_1 = FC(dropout=True).cuda()\n",
    "# train_mnist(model=fc_1, batch_size=200, epochs=20, LR=0.01)\n",
    "cnn = CNN(1, 16).cuda()\n",
    "train_mnist(model=cnn, batch_size=200, epochs=20, LR=0.01)"
   ]
  },
  {
   "cell_type": "code",
   "execution_count": 8,
   "metadata": {},
   "outputs": [
    {
     "name": "stdout",
     "output_type": "stream",
     "text": [
      "tensor(8) prediction number\n",
      "tensor([7]) real number\n"
     ]
    }
   ],
   "source": [
    "test_output = cnn(test_x[:1])\n",
    "pred_y = torch.max(test_output, 1)[1].data.squeeze()  # move the computation in GPU\n",
    "\n",
    "print(pred_y, 'prediction number')\n",
    "print(test_y[:1], 'real number')"
   ]
  },
  {
   "cell_type": "code",
   "execution_count": 9,
   "metadata": {},
   "outputs": [
    {
     "data": {
      "text/plain": [
       "tensor([[-7.3565, -6.9898, -5.1256, -5.1975, -6.3346, -6.8889, -9.2157, -8.3436,\n",
       "         -4.7088, -6.6707]], grad_fn=<AddmmBackward>)"
      ]
     },
     "execution_count": 9,
     "metadata": {},
     "output_type": "execute_result"
    }
   ],
   "source": [
    "test_output"
   ]
  },
  {
   "cell_type": "code",
   "execution_count": 10,
   "metadata": {},
   "outputs": [
    {
     "data": {
      "text/plain": [
       "torch.Size([1, 1, 28, 28])"
      ]
     },
     "execution_count": 10,
     "metadata": {},
     "output_type": "execute_result"
    }
   ],
   "source": [
    "test_x[:1].shape"
   ]
  },
  {
   "cell_type": "code",
   "execution_count": 11,
   "metadata": {},
   "outputs": [
    {
     "ename": "NameError",
     "evalue": "name 'plt' is not defined",
     "output_type": "error",
     "traceback": [
      "\u001b[0;31m---------------------------------------------------------------------------\u001b[0m",
      "\u001b[0;31mNameError\u001b[0m                                 Traceback (most recent call last)",
      "\u001b[0;32m<ipython-input-11-6dd5d4b8985b>\u001b[0m in \u001b[0;36m<module>\u001b[0;34m\u001b[0m\n\u001b[0;32m----> 1\u001b[0;31m \u001b[0mplt\u001b[0m\u001b[0;34m.\u001b[0m\u001b[0mimshow\u001b[0m\u001b[0;34m(\u001b[0m\u001b[0mtest_x\u001b[0m\u001b[0;34m[\u001b[0m\u001b[0;34m:\u001b[0m\u001b[0;36m1\u001b[0m\u001b[0;34m]\u001b[0m\u001b[0;34m.\u001b[0m\u001b[0mnumpy\u001b[0m\u001b[0;34m(\u001b[0m\u001b[0;34m)\u001b[0m\u001b[0;34m.\u001b[0m\u001b[0msqueeze\u001b[0m\u001b[0;34m(\u001b[0m\u001b[0;34m)\u001b[0m\u001b[0;34m,\u001b[0m \u001b[0;34m'gray'\u001b[0m\u001b[0;34m)\u001b[0m\u001b[0;34m\u001b[0m\u001b[0;34m\u001b[0m\u001b[0m\n\u001b[0m",
      "\u001b[0;31mNameError\u001b[0m: name 'plt' is not defined"
     ]
    }
   ],
   "source": [
    "plt.imshow(test_x[:1].numpy().squeeze(), 'gray')"
   ]
  }
 ],
 "metadata": {
  "interpreter": {
   "hash": "61a57a4b5406d2de388e2f91097d4e4bcd7d5f4a46f53a795aa28a02eed27fc5"
  },
  "kernelspec": {
   "display_name": "Python 3.8.8 64-bit ('base': conda)",
   "name": "python3"
  },
  "language_info": {
   "codemirror_mode": {
    "name": "ipython",
    "version": 3
   },
   "file_extension": ".py",
   "mimetype": "text/x-python",
   "name": "python",
   "nbconvert_exporter": "python",
   "pygments_lexer": "ipython3",
   "version": "3.8.8"
  }
 },
 "nbformat": 4,
 "nbformat_minor": 4
}
